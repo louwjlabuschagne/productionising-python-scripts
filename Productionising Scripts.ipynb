{
 "cells": [
  {
   "cell_type": "markdown",
   "metadata": {},
   "source": [
    "# Productionising Scripts"
   ]
  },
  {
   "cell_type": "markdown",
   "metadata": {},
   "source": [
    "## Introduction"
   ]
  },
  {
   "cell_type": "markdown",
   "metadata": {},
   "source": [
    "So you've completed your notebooks and everything looks good. Or you've gotten a few scripts going and you would like to take the stability and productionisability of your scripts one step further. If this is you, then this notebook is for you.\n",
    "\n",
    "What we'll cover is:\n",
    "+ Modularising your scripts and importing your functions as modules\n",
    "+ Creating command line arguments using `argparse`\n",
    "+ Creating config files using `configparser`\n",
    "+ Creating logs for you programs using `logging`\n",
    "+ Putting it all together"
   ]
  },
  {
   "cell_type": "markdown",
   "metadata": {},
   "source": [
    "## Modularising your code"
   ]
  },
  {
   "cell_type": "markdown",
   "metadata": {},
   "source": [
    "So you've been putting all your code in 1 .py file - 😥. \n",
    "\n",
    "This is usually bad practice as it is very difficult to navigate 1 **HUGE** file and if something doesn't work it is very difficult to find out what. Luckily Python makes it easy to package your .py scripts into modules.\n",
    "\n",
    "Let's look at an example. Say you've got a lot of helper functions, for example `calc_sum`, `calc_diff`, etc. "
   ]
  },
  {
   "cell_type": "code",
   "execution_count": 1,
   "metadata": {
    "ExecuteTime": {
     "end_time": "2019-10-09T04:29:40.243970Z",
     "start_time": "2019-10-09T04:29:40.236479Z"
    }
   },
   "outputs": [
    {
     "name": "stdout",
     "output_type": "stream",
     "text": [
      "3\n",
      "-1\n"
     ]
    }
   ],
   "source": [
    "def calc_sum(a,b):\n",
    "    return a+b\n",
    "def calc_diff(a,b):\n",
    "    return a-b\n",
    "print(calc_sum(1,2))\n",
    "print(calc_diff(1,2))"
   ]
  },
  {
   "cell_type": "markdown",
   "metadata": {},
   "source": [
    "We can abstract these function away into a script called `helpers.py` and import them from there, making our main .py file much cleaner. I've created this file shown below"
   ]
  },
  {
   "cell_type": "code",
   "execution_count": 2,
   "metadata": {
    "ExecuteTime": {
     "end_time": "2019-10-09T04:29:40.624036Z",
     "start_time": "2019-10-09T04:29:40.247090Z"
    }
   },
   "outputs": [
    {
     "name": "stdout",
     "output_type": "stream",
     "text": [
      "-rw-r--r--@ 1 louwrenslabuschagne  staff   2839 Oct  8 15:11 boiler_plate.py\n",
      "-rw-r--r--  1 louwrenslabuschagne  staff     68 Oct  8 13:38 helpers.py\n",
      "\n",
      "def calc_sum(a,b):\n",
      "    return a+b\n",
      "def calc_diff(a,b):\n",
      "    return a-b"
     ]
    }
   ],
   "source": [
    "!ls -l ./ | grep \".py$\"\n",
    "!echo \"\"\n",
    "!cat ./helpers.py"
   ]
  },
  {
   "cell_type": "code",
   "execution_count": 3,
   "metadata": {
    "ExecuteTime": {
     "end_time": "2019-10-09T04:29:40.635764Z",
     "start_time": "2019-10-09T04:29:40.626809Z"
    }
   },
   "outputs": [
    {
     "name": "stdout",
     "output_type": "stream",
     "text": [
      "3\n",
      "-1\n"
     ]
    }
   ],
   "source": [
    "from helpers import calc_sum, calc_diff\n",
    "print(calc_sum(1,2))\n",
    "print(calc_diff(1,2))"
   ]
  },
  {
   "cell_type": "markdown",
   "metadata": {
    "ExecuteTime": {
     "end_time": "2019-10-08T11:39:06.892674Z",
     "start_time": "2019-10-08T11:39:06.882828Z"
    }
   },
   "source": [
    "However this isn't great as our main directory will now become poluted with with scripts. Like a `helpers.py`, `utils.py`, `db.py`, `transform.py`, etc. What we would actually like to do is abstract these away into a folder (which will become our module) and import them from there. \n",
    "\n",
    "Luckily Python makes this very easy and all you need to do to make any folder a module is to include a file called `__init__.py` - that's it. Just an _empty_ file called `__init__.py` in a directory makes it a Python module. We'll look a bit later on what you can actually put in this file if you want to get more fancy.\n",
    "\n",
    "I've decided to call my module `mods` - but this would typically be the name of the project you're working on. Also, I've moved the `calc_sum` and `calc_diff` functions into a script called `math.py` that lives inside the `mods` directory. Below I show the directory structure and file contents. You can see that the `__init__.py` file is empty and the `math.py` function contains the 2 functions."
   ]
  },
  {
   "cell_type": "code",
   "execution_count": 4,
   "metadata": {
    "ExecuteTime": {
     "end_time": "2019-10-09T04:29:41.277181Z",
     "start_time": "2019-10-09T04:29:40.638819Z"
    }
   },
   "outputs": [
    {
     "name": "stdout",
     "output_type": "stream",
     "text": [
      "total 8\n",
      "-rw-r--r--  1 louwrenslabuschagne  staff    0 Oct  8 13:46 __init__.py\n",
      "drwxr-xr-x  4 louwrenslabuschagne  staff  128 Oct  8 13:50 \u001b[1m\u001b[34m__pycache__\u001b[m\u001b[m\n",
      "-rw-r--r--  1 louwrenslabuschagne  staff   68 Oct  8 13:46 math.py\n",
      "\n",
      "__init__.py\n",
      "\n",
      "math.py\n",
      "def calc_sum(a,b):\n",
      "    return a+b\n",
      "def calc_diff(a,b):\n",
      "    return a-b"
     ]
    }
   ],
   "source": [
    "!ls -l mods/\n",
    "!echo \"\\n__init__.py\"\n",
    "!cat mods/__init__.py\n",
    "!echo \"\\nmath.py\"\n",
    "!cat mods/math.py"
   ]
  },
  {
   "cell_type": "markdown",
   "metadata": {},
   "source": [
    "Now we can do the following."
   ]
  },
  {
   "cell_type": "code",
   "execution_count": 5,
   "metadata": {
    "ExecuteTime": {
     "end_time": "2019-10-09T04:29:41.291944Z",
     "start_time": "2019-10-09T04:29:41.280078Z"
    }
   },
   "outputs": [
    {
     "name": "stdout",
     "output_type": "stream",
     "text": [
      "3\n",
      "-1\n"
     ]
    }
   ],
   "source": [
    "from mods.math import calc_diff, calc_sum\n",
    "print(calc_sum(1,2))\n",
    "print(calc_diff(1,2))"
   ]
  },
  {
   "cell_type": "markdown",
   "metadata": {},
   "source": [
    "This is allows for much more modularised code and is the way that Python understands modules - at a later stage we'll look at how to package these functions up and get them onto `pip`"
   ]
  },
  {
   "cell_type": "markdown",
   "metadata": {},
   "source": [
    "## Command Line Arguments"
   ]
  },
  {
   "cell_type": "markdown",
   "metadata": {},
   "source": [
    "So you've got a script and you'd like to make it callable with different parameters. For example the bash copy command `cp` has many different flags that can be set shown below."
   ]
  },
  {
   "cell_type": "code",
   "execution_count": 6,
   "metadata": {
    "ExecuteTime": {
     "end_time": "2019-10-09T04:29:41.424152Z",
     "start_time": "2019-10-09T04:29:41.294767Z"
    }
   },
   "outputs": [
    {
     "name": "stdout",
     "output_type": "stream",
     "text": [
      "usage: cp [-R [-H | -L | -P]] [-fi | -n] [-apvXc] source_file target_file\r\n",
      "       cp [-R [-H | -L | -P]] [-fi | -n] [-apvXc] source_file ... target_directory\r\n"
     ]
    }
   ],
   "source": [
    "!cp"
   ]
  },
  {
   "cell_type": "markdown",
   "metadata": {},
   "source": [
    "How do we get our scripts to except arguments? \n",
    "\n",
    "Well one way is to use `sys.argv` which contains all aguments passed to a script. I've created a script called `cmd_args/sys_args.py` that looks as follows:"
   ]
  },
  {
   "cell_type": "code",
   "execution_count": 7,
   "metadata": {
    "ExecuteTime": {
     "end_time": "2019-10-09T04:29:41.564909Z",
     "start_time": "2019-10-09T04:29:41.427847Z"
    }
   },
   "outputs": [
    {
     "name": "stdout",
     "output_type": "stream",
     "text": [
      "import sys\r\n",
      "print(sys.argv)"
     ]
    }
   ],
   "source": [
    "!cat cmd_args/sys_args.py"
   ]
  },
  {
   "cell_type": "markdown",
   "metadata": {},
   "source": [
    "Calling this function with arguments results in the following:"
   ]
  },
  {
   "cell_type": "code",
   "execution_count": 8,
   "metadata": {
    "ExecuteTime": {
     "end_time": "2019-10-09T04:29:41.752599Z",
     "start_time": "2019-10-09T04:29:41.568787Z"
    }
   },
   "outputs": [
    {
     "name": "stdout",
     "output_type": "stream",
     "text": [
      "['cmd_args/sys_args.py', 'hallo', '-h', 'there', '-d', '-2']\r\n"
     ]
    }
   ],
   "source": [
    "!python cmd_args/sys_args.py hallo -h there -d -2"
   ]
  },
  {
   "cell_type": "markdown",
   "metadata": {},
   "source": [
    "As you can see each argument passed gets appended in order to the list known as `sys.argv`. The first entry in this list is always the file being called - the `__file__` variable. However, using this method isn't great. If the user changes the order of any of the arguments your program will not work - for example executing the following will have a complete different list as the example above."
   ]
  },
  {
   "cell_type": "code",
   "execution_count": 9,
   "metadata": {
    "ExecuteTime": {
     "end_time": "2019-10-09T04:29:41.933486Z",
     "start_time": "2019-10-09T04:29:41.756565Z"
    }
   },
   "outputs": [
    {
     "name": "stdout",
     "output_type": "stream",
     "text": [
      "['cmd_args/sys_args.py', '-h', 'there', '-d', '-2', 'hallo']\r\n"
     ]
    }
   ],
   "source": [
    "!python cmd_args/sys_args.py -h there -d -2 hallo"
   ]
  },
  {
   "cell_type": "markdown",
   "metadata": {},
   "source": [
    "Luckily Python comes the to rescue again with the `argparse` library - which is defaulty installed BTW. I've created a file `cmd_args/argparse_args.py` showcasing the functionality."
   ]
  },
  {
   "cell_type": "code",
   "execution_count": 10,
   "metadata": {
    "ExecuteTime": {
     "end_time": "2019-10-09T04:29:42.071702Z",
     "start_time": "2019-10-09T04:29:41.936747Z"
    }
   },
   "outputs": [
    {
     "name": "stdout",
     "output_type": "stream",
     "text": [
      "import argparse\r\n",
      "from datetime import date\r\n",
      "\r\n",
      "parser = argparse.ArgumentParser(prog='Awesome Bananas', \r\n",
      "                                 description='My awesome program that is awesome')\r\n",
      "parser.add_argument('-s', '--start_day', \r\n",
      "                    type=str,\r\n",
      "                    help='Start day to use in the format 20191008',\r\n",
      "                    required=True)\r\n",
      "parser.add_argument('-e', '--end_day',\r\n",
      "                    type=str,\r\n",
      "                    help='End day to use in the format 20191008',\r\n",
      "                    default=date.today().strftime('%Y%m%d'))\r\n",
      "parser.add_argument('-v', '--verbose',\r\n",
      "                    action='store_true',\r\n",
      "                    help='Make the program more talkative ')\r\n",
      "args = parser.parse_args()\r\n",
      "start_day = args.start_day\r\n",
      "end_day = args.end_day\r\n",
      "v = args.verbose\r\n",
      "\r\n",
      "print('start_day: %s'%start_day)\r\n",
      "print('end_day: %s'%end_day)\r\n",
      "print('verbose: %r'%v)"
     ]
    }
   ],
   "source": [
    "!cat cmd_args/argparse_args.py"
   ]
  },
  {
   "cell_type": "markdown",
   "metadata": {},
   "source": [
    "There is a lot going on in this piece of code, so lets break it down.\n",
    "\n",
    "1. First we import the `argparse` module\n",
    "2. Then we initiate a `ArgumentParser` object with the line `parser = argparse.ArgumentParser()` and assign it to a variable - parser in our case. Not that there are some optional arguments that you can specify for your program, like the program name (Awesome Bananas here) and a description for your prgram - the use of this will be come apparent shortly.\n",
    "3. Next, we add all the arguments we would like the user to input. For this example my program's got 3 arguments: `start_day`, `end_day` and `verbose` and only `start_day` is mandatory. Unpacking the `add_argument` method a bit you can see that you can assign a shorthand (`-s`) and longhand (`--start_day`) identifier for each argument. If you didn't know it is convension in the linux world to have your shorthand argument with 1 hyphen `-s` and your longhand arguments with 2 hyphens `--start_day`. Further you can specify what type you are expecting for each argument like `string`, `int` etc. Lastly note the `action` argument in the verbose argument's `add_argument` method. It states `store_true` and this will cause the `verbose` argument to be `False` if the `-v` flag is not specified and `True` if it is specified.\n",
    "4. Lastly, we parse all the arguments using the `parse_args()` method. This parses all the arguments and stores them in a variable that can be thought of as a dictionary - `args` in our case. We can then access each argument with its long name, for example `args.start_day` and use it in our program.\n",
    "\n",
    "Lets see this in action. First I call the program with no arguments:"
   ]
  },
  {
   "cell_type": "code",
   "execution_count": 11,
   "metadata": {
    "ExecuteTime": {
     "end_time": "2019-10-09T04:29:42.269636Z",
     "start_time": "2019-10-09T04:29:42.074766Z"
    }
   },
   "outputs": [
    {
     "name": "stdout",
     "output_type": "stream",
     "text": [
      "usage: Awesome Bananas [-h] -s START_DAY [-e END_DAY] [-v]\r\n",
      "Awesome Bananas: error: the following arguments are required: -s/--start_day\r\n"
     ]
    }
   ],
   "source": [
    "!python cmd_args/argparse_args.py"
   ]
  },
  {
   "cell_type": "markdown",
   "metadata": {},
   "source": [
    "First thing to note is the amazing help printout that comes with the `argparse` package. As I've specified the `start_day` argument to be mandatory the program displays the correct way to use the program namly: `usage: Awesome Bananas [-h] -s START_DAY [-e END_DAY] [-v]`.\n",
    "\n",
    "If you didn't know in the linux world the convension for optional arguments are that they are contained in square brackets (`[]`). Here we see that `-h`, `-e` and `-v` are optional and `-s` is mandatory. But wait! We didn't add an argument with a `-h`. Exactly! It comes for free and again convention in the linux world is that `-h` and `--help` is used for help shown below."
   ]
  },
  {
   "cell_type": "code",
   "execution_count": 12,
   "metadata": {
    "ExecuteTime": {
     "end_time": "2019-10-09T04:29:42.472503Z",
     "start_time": "2019-10-09T04:29:42.276300Z"
    }
   },
   "outputs": [
    {
     "name": "stdout",
     "output_type": "stream",
     "text": [
      "usage: Awesome Bananas [-h] -s START_DAY [-e END_DAY] [-v]\r\n",
      "\r\n",
      "My awesome program that is awesome\r\n",
      "\r\n",
      "optional arguments:\r\n",
      "  -h, --help            show this help message and exit\r\n",
      "  -s START_DAY, --start_day START_DAY\r\n",
      "                        Start day to use in the format 20191008\r\n",
      "  -e END_DAY, --end_day END_DAY\r\n",
      "                        End day to use in the format 20191008\r\n",
      "  -v, --verbose         Make the program more talkative\r\n"
     ]
    }
   ],
   "source": [
    "!python cmd_args/argparse_args.py -h"
   ]
  },
  {
   "cell_type": "markdown",
   "metadata": {},
   "source": [
    "Now look at that! We get a beautiful printout and anybody using your program will know exaclty how to interact with it. Let's see 2 more examples, one with the `-v` flag set and one using a differnt `end_time`."
   ]
  },
  {
   "cell_type": "code",
   "execution_count": 13,
   "metadata": {
    "ExecuteTime": {
     "end_time": "2019-10-09T04:29:42.676321Z",
     "start_time": "2019-10-09T04:29:42.475225Z"
    }
   },
   "outputs": [
    {
     "name": "stdout",
     "output_type": "stream",
     "text": [
      "start_day: 20191001\r\n",
      "end_day: 20191009\r\n",
      "verbose: True\r\n"
     ]
    }
   ],
   "source": [
    "!python cmd_args/argparse_args.py -v -s 20191001"
   ]
  },
  {
   "cell_type": "code",
   "execution_count": 14,
   "metadata": {
    "ExecuteTime": {
     "end_time": "2019-10-09T04:29:42.878766Z",
     "start_time": "2019-10-09T04:29:42.678988Z"
    }
   },
   "outputs": [
    {
     "name": "stdout",
     "output_type": "stream",
     "text": [
      "start_day: 20191001\r\n",
      "end_day: 20191002\r\n",
      "verbose: False\r\n"
     ]
    }
   ],
   "source": [
    "!python cmd_args/argparse_args.py -s 20191001 -e 20191002"
   ]
  },
  {
   "cell_type": "markdown",
   "metadata": {},
   "source": [
    "## Config Files"
   ]
  },
  {
   "cell_type": "markdown",
   "metadata": {},
   "source": [
    "Say you've got some passwords that you need to use in your script, or some other configuration that you'd like to abstract out of your program - then config files are for you - and again Python makes it nice and easy with the built in `configparser` module. I've created a `config.ini` with conent shown below:"
   ]
  },
  {
   "cell_type": "code",
   "execution_count": 15,
   "metadata": {
    "ExecuteTime": {
     "end_time": "2019-10-09T04:29:43.021951Z",
     "start_time": "2019-10-09T04:29:42.884612Z"
    }
   },
   "outputs": [
    {
     "name": "stdout",
     "output_type": "stream",
     "text": [
      "[optima]\r\n",
      "username = optima_usr\r\n",
      "password = optima_pwd\r\n",
      "\r\n",
      "[touchpoint]\r\n",
      "username = tp_usr\r\n",
      "password = tp_pwd\r\n",
      "\r\n",
      "[vodanetworks]\r\n",
      "username = vd_usr\r\n",
      "password = vd_pwd"
     ]
    }
   ],
   "source": [
    "!cat config.ini"
   ]
  },
  {
   "cell_type": "markdown",
   "metadata": {},
   "source": [
    "This is the format that you'll have to adere to - more info <a href='https://docs.python.org/3/library/configparser.html'>here</a>. But now we can create a `ConfigParser()` object and call the different configurations as a dictionary as shown below."
   ]
  },
  {
   "cell_type": "code",
   "execution_count": 16,
   "metadata": {
    "ExecuteTime": {
     "end_time": "2019-10-09T04:29:43.041957Z",
     "start_time": "2019-10-09T04:29:43.025122Z"
    }
   },
   "outputs": [
    {
     "name": "stdout",
     "output_type": "stream",
     "text": [
      "optima_usr optima_pwd vd_usr vd_pwd tp_usr tp_pwd\n"
     ]
    }
   ],
   "source": [
    "from configparser import ConfigParser\n",
    "\n",
    "config = ConfigParser()\n",
    "config.read('config.ini')\n",
    "\n",
    "optima_username = config['optima']['username']\n",
    "optima_pwd = config['optima']['password']\n",
    "\n",
    "vodanetworks_username = config['vodanetworks']['username']\n",
    "vodanetworks_pwd = config['vodanetworks']['password']\n",
    "\n",
    "touchpoint_username = config['touchpoint']['username']\n",
    "touchpoint_pwd = config['touchpoint']['password']\n",
    "\n",
    "print(optima_username, optima_pwd, \n",
    "      vodanetworks_username, vodanetworks_pwd, \n",
    "      touchpoint_username, touchpoint_pwd)"
   ]
  },
  {
   "cell_type": "markdown",
   "metadata": {},
   "source": [
    "What I've found to be very useful is to put all my passwords in the `config.ini` and then add `*.ini` to my `.gitignore` as my passwords are then not shown on a git server, but at the same time I don't have to type them out each time I'm running my script."
   ]
  },
  {
   "cell_type": "markdown",
   "metadata": {},
   "source": [
    "## Logging"
   ]
  },
  {
   "cell_type": "markdown",
   "metadata": {},
   "source": [
    "Lastly we'll look at logging - which is essisial to productionaising your scripts. Imagine you've got a mission critical app running and for some reason it crashes during the night. The next morning you'd like to know what went wrong - and with good logging this should be apparent. \n",
    "\n",
    "The naive way to log is to print statements to the CLI - but this is very fragile and doesn't allow for much flexiblity. For example you'd like to see the time, the user, the process ID etc. Ofcourse you can go and write your own log_print function to do this (trust me I have), but why reinvent the wheel? \n",
    "\n",
    "Python comes to the rescue with the pre-installed `logging` module. \n",
    "\n",
    "It looks something like:"
   ]
  },
  {
   "cell_type": "code",
   "execution_count": 17,
   "metadata": {
    "ExecuteTime": {
     "end_time": "2019-10-09T04:29:43.050613Z",
     "start_time": "2019-10-09T04:29:43.046143Z"
    }
   },
   "outputs": [],
   "source": [
    "import logging\n",
    "LOGGING_FORMAT = '%(asctime)-15s %(levelname)-10s %(name)-8s %(message)s'\n",
    "logging.basicConfig(level=logging.DEBUG, format=LOGGING_FORMAT)"
   ]
  },
  {
   "cell_type": "markdown",
   "metadata": {},
   "source": [
    "Note that once you've called the `logging.basicConfig` function - you can't call it again. That is to say, once you've set a debugging level, format and other parameters for your logger - it is fixed for the session. \n",
    "\n",
    "For notebooks, to reset this you'll have to reset the kernel for scripts, you'll have to call the script again with different configurations.\n",
    "\n",
    "So why use the logging module? Well... A lot of 3rd party Python libraries also use it and if you set your logging level and import other modules, they too inherit the logging level. So what logging level are available? In ascending level of importance:\n",
    "\n",
    "+ logging.DEBUG\n",
    "+ logging.INFO\n",
    "+ logging.WARNING\n",
    "+ logging.ERROR\n",
    "+ logging.CRITICAL\n",
    "\n",
    "DEBUG will print everything and CRITICAL will only report big big problems. \n",
    "\n",
    "OK. Cool - but you do I use it? By calling `logging.debug(message)` or `logging.critical(message)` for example."
   ]
  },
  {
   "cell_type": "code",
   "execution_count": 18,
   "metadata": {
    "ExecuteTime": {
     "end_time": "2019-10-09T04:29:43.062621Z",
     "start_time": "2019-10-09T04:29:43.053663Z"
    }
   },
   "outputs": [
    {
     "name": "stderr",
     "output_type": "stream",
     "text": [
      "2019-10-09 06:29:43,055 DEBUG      root     Connecting to DB\n",
      "2019-10-09 06:29:43,058 INFO       root     Loaded data\n",
      "2019-10-09 06:29:43,059 DEBUG      root     Closed connection to DB\n"
     ]
    }
   ],
   "source": [
    "logging.debug('Connecting to DB')\n",
    "logging.info('Loaded data')\n",
    "logging.debug('Closed connection to DB')"
   ]
  },
  {
   "cell_type": "markdown",
   "metadata": {},
   "source": [
    "As you can see the print-out follows the format I specified, viz: `%(asctime)-15s %(levelname)-10s %(name)-8s %(message)s`. \n",
    "\n",
    "Here `asctime` is the time, `levelname` is the debug level, `name` is the user running the script and `message` is the message you want to display. See more options <a href='https://docs.python.org/3/howto/logging.html'>here</a>.\n",
    "\n",
    "Not sold yet? Another great feature is that you can specify if you want your logs to be written to a file using the `filename` and `filemode` arguments in the `basicConfig` function. For example:\n",
    "\n",
    "`\n",
    "logging.basicConfig(filename='app.log', filemode='w', level=logging.DEBUG, format=LOGGING_FORMAT)\n",
    "`\n",
    "As I mentioned I can't just call this now and expect all subsequent logs to be written to `app.log` as I've already initialised my logger - but if you were to initialise it using the command above then this would be the case. You can use `filemode='a'` if you'd like to always append your logs to the same file, or the `filemode='w'` to create a new file every time.\n",
    "\n",
    "Still not sold? Maybe seeing some log messages from a 3rd party module will convince you. Below I connect to a remote server using the `paramiko` module and I list contents of a directory."
   ]
  },
  {
   "cell_type": "code",
   "execution_count": 19,
   "metadata": {
    "ExecuteTime": {
     "end_time": "2019-10-09T04:29:44.541051Z",
     "start_time": "2019-10-09T04:29:43.068206Z"
    },
    "scrolled": false
   },
   "outputs": [
    {
     "name": "stderr",
     "output_type": "stream",
     "text": [
      "2019-10-09 06:29:43,888 DEBUG      matplotlib $HOME=/Users/louwrenslabuschagne\n",
      "2019-10-09 06:29:43,889 DEBUG      matplotlib CONFIGDIR=/Users/louwrenslabuschagne/.matplotlib\n",
      "2019-10-09 06:29:43,891 DEBUG      matplotlib matplotlib data path: /Users/louwrenslabuschagne/Documents/py37/lib/python3.7/site-packages/matplotlib/mpl-data\n",
      "2019-10-09 06:29:43,896 DEBUG      matplotlib loaded rc file /Users/louwrenslabuschagne/Documents/py37/lib/python3.7/site-packages/matplotlib/mpl-data/matplotlibrc\n",
      "2019-10-09 06:29:43,899 DEBUG      matplotlib matplotlib version 3.1.1\n",
      "2019-10-09 06:29:43,900 DEBUG      matplotlib interactive is False\n",
      "2019-10-09 06:29:43,901 DEBUG      matplotlib platform is darwin\n",
      "2019-10-09 06:29:43,902 DEBUG      matplotlib loaded modules: ['sys', 'builtins', '_frozen_importlib', '_imp', '_thread', '_warnings', '_weakref', 'zipimport', '_frozen_importlib_external', '_io', 'marshal', 'posix', 'encodings', 'codecs', '_codecs', 'encodings.aliases', 'encodings.utf_8', '_signal', '__main__', 'encodings.latin_1', 'io', 'abc', '_abc', '_bootlocale', '_locale', 'site', 'os', 'stat', '_stat', 'posixpath', 'genericpath', 'os.path', '_collections_abc', 'types', 'importlib', 'importlib._bootstrap', 'importlib._bootstrap_external', 'warnings', 'importlib.util', 'importlib.abc', 'importlib.machinery', 'contextlib', 'collections', 'operator', '_operator', 'keyword', 'heapq', '_heapq', 'itertools', 'reprlib', '_collections', 'functools', '_functools', 'mpl_toolkits', 'runpy', 'pkgutil', 'weakref', '_weakrefset', 'ipykernel', 'ipykernel._version', 'ipykernel.connect', '__future__', 'json', 'json.decoder', 're', 'enum', 'sre_compile', '_sre', 'sre_parse', 'sre_constants', 'copyreg', 'json.scanner', '_json', 'json.encoder', 'subprocess', 'time', 'signal', 'errno', '_posixsubprocess', 'select', 'selectors', 'collections.abc', 'math', 'threading', 'traceback', 'linecache', 'tokenize', 'token', 'IPython', 'IPython.core', 'IPython.core.getipython', 'IPython.core.release', 'IPython.core.application', 'atexit', 'copy', 'glob', 'fnmatch', 'logging', 'string', '_string', 'shutil', 'zlib', 'bz2', '_compression', '_bz2', 'lzma', '_lzma', 'pwd', 'grp', 'traitlets', 'traitlets.traitlets', 'inspect', 'dis', 'opcode', '_opcode', 'six', 'struct', '_struct', 'traitlets.utils', 'traitlets.utils.getargspec', 'traitlets.utils.importstring', 'ipython_genutils', 'ipython_genutils._version', 'ipython_genutils.py3compat', 'ipython_genutils.encoding', 'locale', 'platform', 'traitlets.utils.sentinel', 'traitlets.utils.bunch', 'traitlets._version', 'traitlets.config', 'traitlets.config.application', 'decorator', 'traitlets.config.configurable', 'traitlets.config.loader', 'argparse', 'gettext', 'ast', '_ast', 'ipython_genutils.path', 'random', 'hashlib', '_hashlib', '_blake2', '_sha3', 'bisect', '_bisect', '_random', 'ipython_genutils.text', 'textwrap', 'ipython_genutils.importstring', 'IPython.core.crashhandler', 'pprint', 'IPython.core.ultratb', 'pydoc', 'urllib', 'urllib.parse', 'IPython.core.debugger', 'bdb', 'IPython.utils', 'IPython.utils.PyColorize', 'IPython.utils.coloransi', 'IPython.utils.ipstruct', 'IPython.utils.colorable', 'pygments', 'pygments.util', 'IPython.utils.py3compat', 'IPython.utils.encoding', 'IPython.core.excolors', 'IPython.testing', 'IPython.testing.skipdoctest', 'pdb', 'cmd', 'code', 'codeop', 'IPython.core.display_trap', 'IPython.utils.path', 'IPython.utils.process', 'IPython.utils._process_posix', 'pexpect', 'pexpect.exceptions', 'pexpect.utils', 'pexpect.expect', 'pexpect.pty_spawn', 'pty', 'tty', 'termios', 'ptyprocess', 'ptyprocess.ptyprocess', 'fcntl', 'resource', 'ptyprocess.util', 'pexpect.spawnbase', 'pexpect.run', 'IPython.utils._process_common', 'shlex', 'IPython.utils.decorators', 'IPython.utils.data', 'IPython.utils.terminal', 'IPython.utils.sysinfo', 'IPython.utils._sysinfo', 'IPython.core.profiledir', 'IPython.paths', 'tempfile', 'IPython.utils.importstring', 'IPython.terminal', 'IPython.terminal.embed', 'IPython.core.compilerop', 'IPython.core.magic_arguments', 'IPython.core.error', 'IPython.utils.text', 'pathlib', 'ntpath', 'IPython.core.magic', 'getopt', 'IPython.core.oinspect', 'IPython.core.page', 'IPython.core.display', 'binascii', 'mimetypes', 'IPython.lib', 'IPython.lib.security', 'getpass', 'IPython.lib.pretty', 'datetime', '_datetime', 'IPython.utils.openpy', 'IPython.utils.dir2', 'IPython.utils.wildcard', 'pygments.lexers', 'pygments.lexers._mapping', 'pygments.modeline', 'pygments.plugin', 'pygments.lexers.python', 'pygments.lexer', 'pygments.filter', 'pygments.filters', 'pygments.token', 'pygments.regexopt', 'pygments.unistring', 'pygments.formatters', 'pygments.formatters._mapping', 'pygments.formatters.html', 'pygments.formatter', 'pygments.styles', 'IPython.core.inputtransformer2', 'typing', 'typing.io', 'typing.re', 'IPython.core.interactiveshell', 'asyncio', 'asyncio.base_events', 'concurrent', 'concurrent.futures', 'concurrent.futures._base', 'socket', '_socket', 'ssl', '_ssl', 'base64', 'asyncio.constants', 'asyncio.coroutines', 'asyncio.base_futures', 'asyncio.format_helpers', 'asyncio.log', 'asyncio.events', 'contextvars', '_contextvars', 'asyncio.base_tasks', '_asyncio', 'asyncio.futures', 'asyncio.protocols', 'asyncio.sslproto', 'asyncio.transports', 'asyncio.tasks', 'asyncio.locks', 'asyncio.runners', 'asyncio.queues', 'asyncio.streams', 'asyncio.subprocess', 'asyncio.unix_events', 'asyncio.base_subprocess', 'asyncio.selector_events', 'pickleshare', 'pickle', '_compat_pickle', '_pickle', 'IPython.core.prefilter', 'IPython.core.autocall', 'IPython.core.macro', 'IPython.core.splitinput', 'IPython.core.alias', 'IPython.core.builtin_trap', 'IPython.core.events', 'backcall', 'backcall.backcall', 'IPython.core.displayhook', 'IPython.core.displaypub', 'IPython.core.extensions', 'IPython.core.formatters', 'IPython.utils.sentinel', 'IPython.core.history', 'sqlite3', 'sqlite3.dbapi2', '_sqlite3', 'IPython.core.logger', 'IPython.core.payload', 'IPython.core.usage', 'IPython.display', 'IPython.lib.display', 'html', 'html.entities', 'IPython.utils.io', 'IPython.utils.capture', 'IPython.utils.strdispatch', 'IPython.core.hooks', 'IPython.utils.syspathcontext', 'IPython.utils.tempdir', 'IPython.utils.contexts', 'IPython.core.async_helpers', 'IPython.terminal.interactiveshell', 'prompt_toolkit', 'prompt_toolkit.application', 'prompt_toolkit.application.application', 'prompt_toolkit.buffer', 'prompt_toolkit.application.current', 'prompt_toolkit.eventloop', 'prompt_toolkit.eventloop.base', 'prompt_toolkit.log', 'prompt_toolkit.eventloop.coroutine', 'prompt_toolkit.eventloop.defaults', 'prompt_toolkit.utils', 'six.moves', 'wcwidth', 'wcwidth.wcwidth', 'wcwidth.table_wide', 'wcwidth.table_zero', 'prompt_toolkit.cache', 'prompt_toolkit.eventloop.future', 'prompt_toolkit.eventloop.context', 'prompt_toolkit.eventloop.async_generator', 'queue', '_queue', 'six.moves.queue', 'prompt_toolkit.eventloop.event', 'prompt_toolkit.application.run_in_terminal', 'prompt_toolkit.auto_suggest', 'prompt_toolkit.filters', 'prompt_toolkit.filters.base', 'prompt_toolkit.filters.app', 'prompt_toolkit.enums', 'prompt_toolkit.filters.utils', 'prompt_toolkit.filters.cli', 'prompt_toolkit.clipboard', 'prompt_toolkit.clipboard.base', 'prompt_toolkit.selection', 'prompt_toolkit.clipboard.in_memory', 'prompt_toolkit.completion', 'prompt_toolkit.completion.base', 'prompt_toolkit.completion.filesystem', 'prompt_toolkit.completion.word_completer', 'prompt_toolkit.completion.fuzzy_completer', 'prompt_toolkit.document', 'prompt_toolkit.history', 'prompt_toolkit.search', 'prompt_toolkit.key_binding', 'prompt_toolkit.key_binding.key_bindings', 'prompt_toolkit.keys', 'prompt_toolkit.key_binding.vi_state', 'prompt_toolkit.validation', 'prompt_toolkit.input', 'prompt_toolkit.input.base', 'prompt_toolkit.input.defaults', 'prompt_toolkit.input.typeahead', 'prompt_toolkit.key_binding.bindings', 'prompt_toolkit.key_binding.bindings.page_navigation', 'prompt_toolkit.key_binding.bindings.scroll', 'prompt_toolkit.key_binding.defaults', 'prompt_toolkit.key_binding.bindings.basic', 'prompt_toolkit.key_binding.key_processor', 'prompt_toolkit.key_binding.bindings.named_commands', 'prompt_toolkit.key_binding.bindings.completion', 'prompt_toolkit.key_binding.bindings.emacs', 'prompt_toolkit.key_binding.bindings.vi', 'prompt_toolkit.input.vt100_parser', 'prompt_toolkit.input.ansi_escape_sequences', 'prompt_toolkit.key_binding.digraphs', 'prompt_toolkit.key_binding.bindings.mouse', 'prompt_toolkit.layout', 'prompt_toolkit.layout.containers', 'prompt_toolkit.layout.controls', 'prompt_toolkit.formatted_text', 'prompt_toolkit.formatted_text.base', 'prompt_toolkit.formatted_text.html', 'xml', 'xml.dom', 'xml.dom.domreg', 'xml.dom.minidom', 'xml.dom.minicompat', 'xml.dom.xmlbuilder', 'xml.dom.NodeFilter', 'prompt_toolkit.formatted_text.ansi', 'prompt_toolkit.output', 'prompt_toolkit.output.base', 'prompt_toolkit.layout.screen', 'prompt_toolkit.output.defaults', 'prompt_toolkit.output.color_depth', 'prompt_toolkit.output.vt100', 'prompt_toolkit.styles', 'prompt_toolkit.styles.base', 'prompt_toolkit.styles.defaults', 'prompt_toolkit.styles.style', 'prompt_toolkit.styles.named_colors', 'prompt_toolkit.styles.pygments', 'prompt_toolkit.styles.style_transformation', 'colorsys', 'array', 'prompt_toolkit.formatted_text.pygments', 'prompt_toolkit.formatted_text.utils', 'prompt_toolkit.lexers', 'prompt_toolkit.lexers.base', 'prompt_toolkit.lexers.pygments', 'prompt_toolkit.mouse_events', 'prompt_toolkit.layout.processors', 'prompt_toolkit.layout.utils', 'prompt_toolkit.layout.dimension', 'prompt_toolkit.layout.margins', 'prompt_toolkit.layout.layout', 'prompt_toolkit.layout.menus', 'prompt_toolkit.renderer', 'prompt_toolkit.layout.mouse_handlers', 'prompt_toolkit.key_binding.bindings.cpr', 'prompt_toolkit.key_binding.emacs_state', 'prompt_toolkit.layout.dummy', 'prompt_toolkit.application.dummy', 'prompt_toolkit.shortcuts', 'prompt_toolkit.shortcuts.dialogs', 'prompt_toolkit.key_binding.bindings.focus', 'prompt_toolkit.widgets', 'prompt_toolkit.widgets.base', 'prompt_toolkit.widgets.toolbars', 'prompt_toolkit.widgets.dialogs', 'prompt_toolkit.widgets.menus', 'prompt_toolkit.shortcuts.prompt', 'prompt_toolkit.key_binding.bindings.auto_suggest', 'prompt_toolkit.key_binding.bindings.open_in_editor', 'prompt_toolkit.shortcuts.utils', 'prompt_toolkit.shortcuts.progress_bar', 'prompt_toolkit.shortcuts.progress_bar.base', 'prompt_toolkit.shortcuts.progress_bar.formatters', 'prompt_toolkit.patch_stdout', 'pygments.style', 'IPython.terminal.debugger', 'IPython.core.completer', 'unicodedata', 'IPython.core.latex_symbols', 'IPython.utils.generics', 'jedi', 'jedi.api', 'parso', 'parso.parser', 'parso.tree', 'parso._compatibility', 'parso.utils', 'parso.pgen2', 'parso.pgen2.generator', 'parso.pgen2.grammar_parser', 'parso.python', 'parso.python.tokenize', 'parso.python.token', 'parso.grammar', 'parso.python.diff', 'difflib', 'parso.python.parser', 'parso.python.tree', 'parso.python.prefix', 'parso.cache', 'gc', 'parso.python.errors', 'parso.normalizer', 'parso.python.pep8', 'parso.file_io', 'jedi._compatibility', 'jedi.file_io', 'jedi.parser_utils', 'jedi.debug', 'jedi.settings', 'jedi.cache', 'jedi.api.classes', 'jedi.evaluate', 'jedi.evaluate.utils', 'jedi.evaluate.imports', 'jedi.evaluate.sys_path', 'jedi.evaluate.cache', 'jedi.evaluate.base_context', 'jedi.common', 'jedi.common.context', 'jedi.evaluate.helpers', 'jedi.common.utils', 'jedi.evaluate.compiled', 'jedi.evaluate.compiled.context', 'jedi.evaluate.filters', 'jedi.evaluate.flow_analysis', 'jedi.evaluate.recursion', 'jedi.evaluate.names', 'jedi.evaluate.lazy_context', 'jedi.evaluate.compiled.access', 'jedi.evaluate.compiled.getattr_static', 'jedi.evaluate.signature', 'jedi.evaluate.analysis', 'jedi.evaluate.gradual', 'jedi.evaluate.gradual.typeshed', 'jedi.evaluate.gradual.stub_context', 'jedi.evaluate.context', 'jedi.evaluate.context.module', 'jedi.evaluate.context.klass', 'jedi.evaluate.arguments', 'jedi.evaluate.context.iterable', 'jedi.evaluate.param', 'jedi.evaluate.docstrings', 'jedi.evaluate.context.function', 'jedi.evaluate.parser_cache', 'jedi.plugins', 'jedi.evaluate.context.instance', 'jedi.evaluate.gradual.typing', 'jedi.evaluate.syntax_tree', 'jedi.evaluate.finder', 'jedi.evaluate.gradual.conversion', 'jedi.evaluate.gradual.annotation', 'jedi.evaluate.context.decorator', 'jedi.api.keywords', 'pydoc_data', 'pydoc_data.topics', 'jedi.api.interpreter', 'jedi.evaluate.compiled.mixed', 'jedi.api.helpers', 'jedi.api.completion', 'jedi.api.file_name', 'jedi.api.environment', 'filecmp', 'jedi.evaluate.compiled.subprocess', 'jedi.evaluate.compiled.subprocess.functions', 'jedi.api.exceptions', 'jedi.api.project', 'jedi.evaluate.usages', 'jedi.evaluate.gradual.utils', 'jedi.plugins.registry', 'jedi.plugins.stdlib', 'jedi.plugins.flask', 'IPython.terminal.ptutils', 'IPython.terminal.shortcuts', 'IPython.terminal.magics', 'IPython.lib.clipboard', 'IPython.terminal.pt_inputhooks', 'IPython.terminal.prompts', 'IPython.terminal.ipapp', 'IPython.core.magics', 'IPython.core.magics.auto', 'IPython.core.magics.basic', 'IPython.core.magics.code', 'urllib.request', 'email', 'http', 'http.client', 'email.parser', 'email.feedparser', 'email.errors', 'email._policybase', 'email.header', 'email.quoprimime', 'email.base64mime', 'email.charset', 'email.encoders', 'quopri', 'email.utils', 'email._parseaddr', 'calendar', 'email.message', 'uu', 'email._encoded_words', 'email.iterators', 'urllib.error', 'urllib.response', '_scproxy', 'IPython.core.magics.config', 'IPython.core.magics.display', 'IPython.core.magics.execution', 'timeit', 'cProfile', '_lsprof', 'profile', 'pstats', 'IPython.utils.module_paths', 'IPython.utils.timing', 'IPython.core.magics.extension', 'IPython.core.magics.history', 'IPython.core.magics.logging', 'IPython.core.magics.namespace', 'IPython.core.magics.osm', 'IPython.core.magics.packaging', 'IPython.core.magics.pylab', 'IPython.core.pylabtools', 'IPython.core.magics.script', 'IPython.lib.backgroundjobs', 'IPython.core.shellapp', 'IPython.extensions', 'IPython.extensions.storemagic', 'IPython.utils.frame', 'jupyter_client', 'jupyter_client._version', 'jupyter_client.connect', 'zmq', 'ctypes', '_ctypes', 'ctypes._endian', 'zmq.libzmq', 'zmq.backend', 'zmq.backend.select', 'zmq.backend.cython', 'zmq.backend.cython.constants', 'cython_runtime', 'zmq.backend.cython.error', '_cython_0_29_13', 'zmq.backend.cython.message', 'zmq.error', 'zmq.backend.cython.context', 'zmq.backend.cython.socket', 'zmq.backend.cython.utils', 'zmq.backend.cython._poll', 'zmq.backend.cython._version', 'zmq.backend.cython._device', 'zmq.backend.cython._proxy_steerable', 'zmq.sugar', 'zmq.sugar.constants', 'zmq.utils', 'zmq.utils.constant_names', 'zmq.sugar.context', 'zmq.sugar.attrsettr', 'zmq.sugar.socket', 'zmq.sugar.poll', 'zmq.utils.jsonapi', 'zmq.utils.strtypes', 'zmq.sugar.frame', 'zmq.sugar.tracker', 'zmq.sugar.version', 'zmq.sugar.stopwatch', 'jupyter_client.localinterfaces', 'jupyter_core', 'jupyter_core.version', 'jupyter_core.paths', 'jupyter_client.launcher', 'traitlets.log', 'jupyter_client.client', 'jupyter_client.channels', 'jupyter_client.channelsabc', 'jupyter_client.clientabc', 'jupyter_client.manager', 'jupyter_client.kernelspec', 'jupyter_client.managerabc', 'jupyter_client.blocking', 'jupyter_client.blocking.client', 'jupyter_client.blocking.channels', 'jupyter_client.multikernelmanager', 'uuid', '_uuid', 'ipykernel.kernelapp', 'tornado', 'tornado.ioloop', 'numbers', 'tornado.concurrent', 'tornado.log', 'logging.handlers', 'tornado.escape', 'tornado.util', 'tornado.speedups', 'curses', '_curses', 'zmq.eventloop', 'zmq.eventloop.ioloop', 'tornado.platform', 'tornado.platform.asyncio', 'tornado.gen', 'zmq.eventloop.zmqstream', 'ipykernel.iostream', 'imp', 'jupyter_client.session', 'hmac', 'jupyter_client.jsonutil', 'dateutil', 'dateutil._version', 'dateutil.parser', 'dateutil.parser._parser', 'decimal', '_decimal', 'dateutil.relativedelta', 'dateutil._common', 'dateutil.tz', 'dateutil.tz.tz', 'dateutil.tz._common', 'dateutil.tz._factories', 'dateutil.parser.isoparser', '_strptime', 'jupyter_client.adapter', 'ipykernel.heartbeat', 'ipykernel.ipkernel', 'IPython.utils.tokenutil', 'ipykernel.comm', 'ipykernel.comm.manager', 'ipykernel.comm.comm', 'ipykernel.kernelbase', 'tornado.queues', 'tornado.locks', 'ipykernel.jsonutil', 'ipykernel.zmqshell', 'IPython.core.payloadpage', 'ipykernel.displayhook', 'ipykernel.parentpoller', 'faulthandler', 'ipykernel.datapub', 'ipykernel.serialize', 'ipykernel.pickleutil', 'ipykernel.codeutil', 'IPython.core.completerlib', 'storemagic', 'ipywidgets', 'ipywidgets._version', 'ipywidgets.widgets', 'ipywidgets.widgets.widget', 'ipywidgets.widgets.domwidget', 'ipywidgets.widgets.trait_types', 'ipywidgets.widgets.util', 'ipywidgets.widgets.widget_layout', 'ipywidgets.widgets.widget_style', 'ipywidgets.widgets.valuewidget', 'ipywidgets.widgets.widget_core', 'ipywidgets.widgets.widget_bool', 'ipywidgets.widgets.widget_description', 'ipywidgets.widgets.widget_button', 'ipywidgets.widgets.widget_box', 'ipywidgets.widgets.docutils', 'ipywidgets.widgets.widget_float', 'ipywidgets.widgets.widget_int', 'ipywidgets.widgets.widget_color', 'ipywidgets.widgets.widget_date', 'ipywidgets.widgets.widget_output', 'ipywidgets.widgets.widget_selection', 'ipywidgets.widgets.widget_selectioncontainer', 'ipywidgets.widgets.widget_string', 'ipywidgets.widgets.widget_controller', 'ipywidgets.widgets.interaction', 'ipywidgets.widgets.widget_link', 'ipywidgets.widgets.widget_media', 'ipywidgets.widgets.widget_templates', 'ipywidgets.widgets.widget_upload', 'helpers', 'mods', 'mods.math', 'configparser', 'paramiko', 'paramiko._version', 'paramiko.transport', 'cryptography', 'cryptography.__about__', 'cryptography.hazmat', 'cryptography.hazmat.backends', 'cryptography.hazmat.primitives', 'cryptography.hazmat.primitives.ciphers', 'cryptography.hazmat.primitives.ciphers.base', 'cryptography.utils', 'cryptography.exceptions', 'cryptography.hazmat.backends.interfaces', 'cryptography.hazmat.primitives.ciphers.modes', 'cryptography.hazmat.primitives.ciphers.algorithms', 'paramiko.util', 'paramiko.common', 'paramiko.py3compat', 'paramiko.config', 'paramiko.auth_handler', 'paramiko.message', 'paramiko.ssh_exception', 'paramiko.server', 'paramiko.ssh_gss', 'paramiko.channel', 'paramiko.file', 'paramiko.buffered_pipe', 'paramiko.pipe', 'paramiko.compress', 'paramiko.dsskey', 'cryptography.hazmat.primitives.hashes', 'cryptography.hazmat.primitives.serialization', 'cryptography.hazmat.primitives.serialization.base', 'cryptography.hazmat.primitives.serialization.ssh', 'cryptography.hazmat.primitives.asymmetric', 'cryptography.hazmat.primitives.asymmetric.dsa', 'cryptography.hazmat.primitives.asymmetric.ec', 'cryptography.hazmat._oid', 'cryptography.hazmat.primitives.asymmetric.ed25519', 'cryptography.hazmat.primitives.asymmetric.rsa', 'cryptography.hazmat.primitives.asymmetric.utils', 'asn1crypto', 'asn1crypto.version', 'asn1crypto.algos', 'asn1crypto._errors', 'asn1crypto._int', 'asn1crypto.util', 'asn1crypto._iri', 'encodings.idna', 'stringprep', 'asn1crypto._types', 'asn1crypto._ordereddict', 'asn1crypto._ffi', 'asn1crypto._perf', 'asn1crypto._perf._big_num_ctypes', 'ctypes.util', 'ctypes.macholib', 'ctypes.macholib.dyld', 'ctypes.macholib.framework', 'ctypes.macholib.dylib', 'asn1crypto.core', 'asn1crypto._teletex_codec', 'asn1crypto.parser', 'paramiko.ber', 'paramiko.pkey', 'paramiko.ed25519key', 'bcrypt', '_cffi_backend', '_bcrypt.lib', '_bcrypt', 'bcrypt._bcrypt', 'bcrypt.__about__', 'nacl', 'nacl.signing', 'nacl.bindings', 'nacl.bindings.crypto_aead', 'nacl.exceptions', '_sodium.lib', '_sodium', 'nacl._sodium', 'nacl.bindings.crypto_box', 'nacl.bindings.crypto_generichash', 'nacl.bindings.crypto_hash', 'nacl.bindings.crypto_kx', 'nacl.bindings.crypto_pwhash', 'nacl.bindings.crypto_scalarmult', 'nacl.bindings.crypto_secretbox', 'nacl.bindings.crypto_secretstream', 'nacl.bindings.crypto_shorthash', 'nacl.bindings.crypto_sign', 'nacl.bindings.randombytes', 'nacl.bindings.sodium_core', 'nacl.bindings.utils', 'nacl.encoding', 'nacl.public', 'nacl.utils', 'paramiko.kex_curve25519', 'cryptography.hazmat.primitives.constant_time', 'cryptography.hazmat.bindings', '_constant_time.lib', '_constant_time', 'cryptography.hazmat.bindings._constant_time', 'cryptography.hazmat.primitives.asymmetric.x25519', 'paramiko.kex_gex', 'paramiko.kex_group1', 'paramiko.kex_group14', 'paramiko.kex_group16', 'paramiko.kex_ecdh_nist', 'paramiko.kex_gss', 'paramiko.packet', 'paramiko.primes', 'paramiko.rsakey', 'cryptography.hazmat.primitives.asymmetric.padding', 'paramiko.ecdsakey', 'paramiko.sftp_client', 'paramiko.sftp', 'paramiko.sftp_attr', 'paramiko.sftp_file', 'cryptography.hazmat.backends.openssl', 'cryptography.hazmat.backends.openssl.backend', 'cryptography.x509', 'cryptography.x509.certificate_transparency', 'cryptography.x509.base', 'cryptography.x509.extensions', 'ipaddress', 'asn1crypto.keys', 'asn1crypto._elliptic_curve', 'cryptography.x509.general_name', 'cryptography.x509.name', 'cryptography.x509.oid', 'cryptography.hazmat.backends.openssl.aead', 'cryptography.hazmat.backends.openssl.ciphers', 'cryptography.hazmat.backends.openssl.cmac', 'cryptography.hazmat.backends.openssl.decode_asn1', 'cryptography.hazmat.backends.openssl.dh', 'cryptography.hazmat.primitives.asymmetric.dh', 'cryptography.hazmat.backends.openssl.dsa', 'cryptography.hazmat.backends.openssl.utils', 'cryptography.hazmat.backends.openssl.ec', 'cryptography.hazmat.backends.openssl.ed25519', 'cryptography.hazmat.backends.openssl.ed448', 'cryptography.hazmat.primitives.asymmetric.ed448', 'cryptography.hazmat.backends.openssl.encode_asn1', 'cryptography.hazmat.backends.openssl.hashes', 'cryptography.hazmat.backends.openssl.hmac', 'cryptography.hazmat.backends.openssl.ocsp', 'cryptography.hazmat.backends.openssl.x509', 'cryptography.x509.ocsp', 'cryptography.hazmat.backends.openssl.poly1305', 'cryptography.hazmat.backends.openssl.rsa', 'cryptography.hazmat.backends.openssl.x25519', 'cryptography.hazmat.backends.openssl.x448', 'cryptography.hazmat.primitives.asymmetric.x448', 'cryptography.hazmat.bindings.openssl', 'cryptography.hazmat.bindings.openssl.binding', '_openssl.lib', '_openssl', 'cryptography.hazmat.bindings._openssl', 'cryptography.hazmat.bindings.openssl._conditional', 'cryptography.hazmat.primitives.kdf', 'cryptography.hazmat.primitives.kdf.scrypt', 'paramiko.client', 'paramiko.agent', 'paramiko.hostkeys', 'paramiko.sftp_server', 'paramiko.sftp_si', 'paramiko.sftp_handle', 'paramiko.proxy', 'pandas', 'numpy', 'numpy._globals', 'numpy.__config__', 'numpy.version', 'numpy._distributor_init', 'numpy.core', 'numpy.core.info', 'numpy.core.multiarray', 'numpy.core.overrides', 'numpy.core._multiarray_umath', 'numpy.compat', 'numpy.compat._inspect', 'numpy.compat.py3k', 'numpy.core.umath', 'numpy.core.numerictypes', 'numpy.core._string_helpers', 'numpy.core._type_aliases', 'numpy.core._dtype', 'numpy.core.numeric', 'numpy.core._exceptions', 'numpy.core._asarray', 'numpy.core._ufunc_config', 'numpy.core.fromnumeric', 'numpy.core._methods', 'numpy.core.arrayprint', 'numpy.core.defchararray', 'numpy.core.records', 'numpy.core.memmap', 'numpy.core.function_base', 'numpy.core.machar', 'numpy.core.getlimits', 'numpy.core.shape_base', 'numpy.core.einsumfunc', 'numpy.core._add_newdocs', 'numpy.core._multiarray_tests', 'numpy.core._dtype_ctypes', 'numpy.core._internal', 'numpy._pytesttester', 'numpy.lib', 'numpy.lib.info', 'numpy.lib.type_check', 'numpy.lib.ufunclike', 'numpy.lib.index_tricks', 'numpy.matrixlib', 'numpy.matrixlib.defmatrix', 'numpy.linalg', 'numpy.linalg.info', 'numpy.linalg.linalg', 'numpy.lib.twodim_base', 'numpy.linalg.lapack_lite', 'numpy.linalg._umath_linalg', 'numpy.lib.function_base', 'numpy.lib.histograms', 'numpy.lib.stride_tricks', 'numpy.lib.mixins', 'numpy.lib.nanfunctions', 'numpy.lib.shape_base', 'numpy.lib.scimath', 'numpy.lib.polynomial', 'numpy.lib.utils', 'numpy.lib.arraysetops', 'numpy.lib.npyio', 'numpy.lib.format', 'numpy.lib._datasource', 'numpy.lib._iotools', 'numpy.lib.financial', 'numpy.lib.arrayterator', 'numpy.lib.arraypad', 'numpy.lib._version', 'numpy.fft', 'numpy.fft.info', 'numpy.fft.pocketfft', 'numpy.fft.pocketfft_internal', 'numpy.fft.helper', 'numpy.polynomial', 'numpy.polynomial.polynomial', 'numpy.polynomial.polyutils', 'numpy.polynomial._polybase', 'numpy.polynomial.chebyshev', 'numpy.polynomial.legendre', 'numpy.polynomial.hermite', 'numpy.polynomial.hermite_e', 'numpy.polynomial.laguerre', 'numpy.random', 'numpy.random.mtrand', 'numpy.random.common', 'numpy.random.bounded_integers', 'numpy.random.mt19937', 'numpy.random.bit_generator', 'secrets', 'numpy.random.entropy', 'numpy.random.generator', 'numpy.random.pcg64', 'numpy.random.philox', 'numpy.random.sfc64', 'numpy.ctypeslib', 'numpy.ma', 'numpy.ma.core', 'numpy.ma.extras', 'numpy.testing', 'unittest', 'unittest.result', 'unittest.util', 'unittest.case', 'unittest.suite', 'unittest.loader', 'unittest.main', 'unittest.runner', 'unittest.signals', 'numpy.testing._private', 'numpy.testing._private.utils', 'numpy.testing._private.decorators', 'numpy.testing._private.nosetester', 'pytz', 'pytz.exceptions', 'pytz.lazy', 'pytz.tzinfo', 'pytz.tzfile', 'pandas.compat', 'pandas.compat.numpy', 'distutils', 'distutils.dist', 'distutils.errors', 'distutils.fancy_getopt', 'distutils.util', 'distutils.dep_util', 'distutils.spawn', 'distutils.debug', 'distutils.log', 'distutils.sysconfig', 'distutils.version', 'pandas._libs', 'pandas._libs.tslibs', 'pandas._libs.tslibs.conversion', 'pandas._libs.tslibs.c_timestamp', '_cython_0_28_2', 'pandas._libs.tslibs.nattype', 'pandas._libs.tslibs.np_datetime', 'pandas._libs.tslibs.timezones', 'pandas._libs.tslibs.tzconversion', 'pandas._libs.tslibs.timedeltas', 'pandas._libs.tslibs.offsets', 'pandas._libs.tslibs.ccalendar', 'pandas._config', 'pandas._config.config', 'pandas._config.dates', 'pandas._config.display', 'pandas._config.localization', 'pandas._libs.tslibs.strptime', 'pandas._libs.tslibs.fields', 'pandas._libs.tslibs.parsing', 'pandas._libs.tslibs.period', 'pandas._libs.tslibs.frequencies', 'pandas._libs.tslibs.timestamps', 'pandas._libs.tslibs.resolution', 'pandas._libs.hashtable', 'pandas._libs.missing', 'pandas._libs.lib', 'fractions', 'pandas._libs.tslib', 'pandas.core', 'pandas.core.config_init', 'pandas.core.api', 'pandas.core.arrays', 'pandas.core.arrays.array_', 'pandas.core.dtypes', 'pandas.core.dtypes.common', 'pandas._libs.algos', 'pandas.core.dtypes.dtypes', 'pandas._libs.interval', 'pandas.core.dtypes.generic', 'pandas.core.dtypes.base', 'pandas.errors', 'pandas.core.dtypes.inference', 'pandas._typing', 'pandas.core.arrays.base', 'pandas.compat.numpy.function', 'pandas.util', 'pandas.util._decorators', 'pandas._libs.properties', 'pandas.core.util', 'pandas.core.util.hashing', 'pandas._libs.hashing', 'pandas.core.dtypes.cast', 'pandas.core.dtypes.missing', 'pandas.util._validators', 'pandas.core.ops', 'pandas._libs.ops', 'pandas.core.common', 'pandas.core.ops.missing', 'pandas.core.ops.roperator', 'pandas.core.ops.docstrings', 'pandas.core.sorting', 'pandas.core.algorithms', 'pandas.core.indexers', 'pandas.core.arrays.categorical', 'pandas.core.accessor', 'pandas.core.base', 'pandas.core.nanops', 'pandas.compat._optional', 'pandas.core.missing', 'pandas.io', 'pandas.io.formats', 'pandas.io.formats.console', 'pandas.core.arrays.datetimes', 'pandas.core.arrays.datetimelike', 'pandas.tseries', 'pandas.tseries.frequencies', 'pandas.tseries.offsets', 'dateutil.easter', 'pandas.core.tools', 'pandas.core.tools.datetimes', 'pandas.core.arrays._ranges', 'pandas.core.arrays.integer', 'pandas.core.tools.numeric', 'pandas.core.arrays.interval', 'pandas.core.indexes', 'pandas.core.indexes.base', 'pandas._libs.index', 'pandas._libs.join', 'pandas.core.dtypes.concat', 'pandas.core.indexes.frozen', 'pandas.io.formats.printing', 'pandas.core.strings', 'pandas.core.arrays.numpy_', 'pandas.core.arrays.period', 'pandas.core.arrays.sparse', 'pandas._libs.sparse', 'pandas.core.arrays.timedeltas', 'pandas.core.groupby', 'pandas.core.groupby.generic', 'pandas.core.frame', 'pandas.core.generic', 'pandas.core.index', 'pandas.core.indexes.api', 'pandas.core.indexes.category', 'pandas.core.indexes.datetimes', 'pandas.core.indexes.datetimelike', 'pandas.core.tools.timedeltas', 'pandas.core.indexes.numeric', 'pandas.core.indexes.interval', 'pandas.util._exceptions', 'pandas.core.indexes.multi', 'pandas.core.indexes.timedeltas', 'pandas.core.indexes.period', 'pandas.core.indexes.range', 'pandas.core.indexing', 'pandas._libs.indexing', 'pandas.core.internals', 'pandas.core.internals.blocks', 'pandas._libs.internals', 'pandas.core.internals.arrays', 'pandas.core.internals.managers', 'pandas.core.internals.concat', 'pandas.io.formats.format', 'pandas.io.common', 'csv', '_csv', 'gzip', 'mmap', 'zipfile', 'pandas.core.internals.construction', 'pandas.core.series', 'pandas._libs.reshape', 'pandas.core.indexes.accessors', 'pandas.plotting', 'pandas.plotting._core', 'pandas.plotting._matplotlib', 'pandas.plotting._matplotlib.boxplot', 'matplotlib', 'matplotlib.cbook', 'matplotlib.cbook.deprecation', 'matplotlib.rcsetup', 'matplotlib.fontconfig_pattern', 'pyparsing', 'matplotlib.colors', 'matplotlib._color_data', 'cycler', 'matplotlib._version', 'matplotlib.ft2font', 'kiwisolver']\n"
     ]
    },
    {
     "name": "stderr",
     "output_type": "stream",
     "text": [
      "2019-10-09 06:29:43,978 DEBUG      matplotlib CACHEDIR=/Users/louwrenslabuschagne/.matplotlib\n",
      "2019-10-09 06:29:43,984 DEBUG      matplotlib.font_manager Using fontManager instance from /Users/louwrenslabuschagne/.matplotlib/fontlist-v310.json\n",
      "2019-10-09 06:29:44,148 INFO       root     *.ll bigdata@10.132.46.152:/export0/home/iris/server/logs/\n",
      "2019-10-09 06:29:44,170 DEBUG      paramiko.transport starting thread (client mode): 0x15164c50\n",
      "2019-10-09 06:29:44,172 DEBUG      paramiko.transport Local version/idstring: SSH-2.0-paramiko_2.6.0\n",
      "2019-10-09 06:29:44,178 DEBUG      paramiko.transport Remote version/idstring: SSH-2.0-Sun_SSH_2.4\n",
      "2019-10-09 06:29:44,179 INFO       paramiko.transport Connected (version 2.0, client Sun_SSH_2.4)\n",
      "2019-10-09 06:29:44,187 DEBUG      paramiko.transport kex algos:['diffie-hellman-group-exchange-sha256', 'diffie-hellman-group-exchange-sha1', 'diffie-hellman-group14-sha1', 'diffie-hellman-group1-sha1'] server key:['ssh-rsa', 'ssh-dss'] client encrypt:['aes128-ctr', 'aes192-ctr', 'aes256-ctr', 'aes128-cbc', '3des-cbc'] server encrypt:['aes128-ctr', 'aes192-ctr', 'aes256-ctr', 'aes128-cbc', '3des-cbc'] client mac:['hmac-sha2-256', 'hmac-sha2-512', 'hmac-sha1'] server mac:['hmac-sha2-256', 'hmac-sha2-512', 'hmac-sha1'] client compress:['none', 'zlib@openssh.com', 'zlib'] server compress:['none', 'zlib@openssh.com', 'zlib'] client lang:['de-DE', 'en-US', 'es-ES', 'fr-FR', 'it-IT', 'ja-JP', 'ko-KR', 'pt-BR', 'zh-CN', 'zh-TW', 'i-default'] server lang:['de-DE', 'en-US', 'es-ES', 'fr-FR', 'it-IT', 'ja-JP', 'ko-KR', 'pt-BR', 'zh-CN', 'zh-TW', 'i-default'] kex follows?False\n",
      "2019-10-09 06:29:44,188 DEBUG      paramiko.transport Kex agreed: diffie-hellman-group-exchange-sha256\n",
      "2019-10-09 06:29:44,189 DEBUG      paramiko.transport HostKey agreed: ssh-rsa\n",
      "2019-10-09 06:29:44,191 DEBUG      paramiko.transport Cipher agreed: aes128-ctr\n",
      "2019-10-09 06:29:44,192 DEBUG      paramiko.transport MAC agreed: hmac-sha2-256\n",
      "2019-10-09 06:29:44,193 DEBUG      paramiko.transport Compression agreed: none\n",
      "2019-10-09 06:29:44,203 DEBUG      paramiko.transport Got server p (2048 bits)\n",
      "2019-10-09 06:29:44,298 DEBUG      paramiko.transport kex engine KexGexSHA256 specified hash_algo <built-in function openssl_sha256>\n",
      "2019-10-09 06:29:44,300 DEBUG      paramiko.transport Switch to new keys ...\n",
      "2019-10-09 06:29:44,303 DEBUG      paramiko.transport Trying discovered key b'1702bc2544bbb0538c0f6416515bd9f9' in /Users/louwrenslabuschagne/.ssh/bigdata\n",
      "2019-10-09 06:29:44,416 DEBUG      paramiko.transport userauth is OK\n",
      "2019-10-09 06:29:44,473 INFO       paramiko.transport Authentication (publickey) successful!\n",
      "2019-10-09 06:29:44,475 DEBUG      paramiko.transport [chan 0] Max packet in: 32768 bytes\n",
      "2019-10-09 06:29:44,480 DEBUG      paramiko.transport [chan 0] Max packet out: 32768 bytes\n",
      "2019-10-09 06:29:44,481 DEBUG      paramiko.transport Secsh channel 0 opened.\n",
      "2019-10-09 06:29:44,487 DEBUG      paramiko.transport [chan 0] Sesch channel 0 request ok\n",
      "2019-10-09 06:29:44,517 DEBUG      paramiko.transport [chan 0] EOF received (0)\n"
     ]
    },
    {
     "data": {
      "text/html": [
       "<div>\n",
       "<style scoped>\n",
       "    .dataframe tbody tr th:only-of-type {\n",
       "        vertical-align: middle;\n",
       "    }\n",
       "\n",
       "    .dataframe tbody tr th {\n",
       "        vertical-align: top;\n",
       "    }\n",
       "\n",
       "    .dataframe thead th {\n",
       "        text-align: right;\n",
       "    }\n",
       "</style>\n",
       "<table border=\"1\" class=\"dataframe\">\n",
       "  <thead>\n",
       "    <tr style=\"text-align: right;\">\n",
       "      <th></th>\n",
       "      <th>size_bytes</th>\n",
       "      <th>filename</th>\n",
       "      <th>file_create_time</th>\n",
       "    </tr>\n",
       "  </thead>\n",
       "  <tbody>\n",
       "    <tr>\n",
       "      <th>0</th>\n",
       "      <td></td>\n",
       "      <td></td>\n",
       "      <td></td>\n",
       "    </tr>\n",
       "    <tr>\n",
       "      <th>1</th>\n",
       "      <td></td>\n",
       "      <td></td>\n",
       "      <td></td>\n",
       "    </tr>\n",
       "    <tr>\n",
       "      <th>2</th>\n",
       "      <td>9130025</td>\n",
       "      <td>statsMonitor.log</td>\n",
       "      <td>2019-10-09 06:28</td>\n",
       "    </tr>\n",
       "    <tr>\n",
       "      <th>3</th>\n",
       "      <td>771216</td>\n",
       "      <td>statsLog-tp.log</td>\n",
       "      <td>2019-10-09 06:15</td>\n",
       "    </tr>\n",
       "    <tr>\n",
       "      <th>4</th>\n",
       "      <td>396096</td>\n",
       "      <td>syslog</td>\n",
       "      <td>2019-10-09 01:00</td>\n",
       "    </tr>\n",
       "  </tbody>\n",
       "</table>\n",
       "</div>"
      ],
      "text/plain": [
       "  size_bytes          filename  file_create_time\n",
       "0                                               \n",
       "1                                               \n",
       "2    9130025  statsMonitor.log  2019-10-09 06:28\n",
       "3     771216   statsLog-tp.log  2019-10-09 06:15\n",
       "4     396096            syslog  2019-10-09 01:00"
      ]
     },
     "execution_count": 19,
     "metadata": {},
     "output_type": "execute_result"
    }
   ],
   "source": [
    "from paramiko import SSHClient\n",
    "import pandas as pd\n",
    "\n",
    "user = 'bigdata'\n",
    "host = '10.132.46.152'\n",
    "directory = '/export0/home/iris/server/logs/'\n",
    "logging.info('*.ll %s@%s:%s'%(user, host, directory))\n",
    "\n",
    "ssh_client = SSHClient()\n",
    "ssh_client.load_system_host_keys()\n",
    "ssh_client.connect(hostname=host,\n",
    "                   username=user,\n",
    "                   key_filename='/Users/louwrenslabuschagne/.ssh/bigdata')\n",
    "\n",
    "stdin, stdout, stderr = ssh_client.exec_command(\"\"\"ls -Rtl --time-style=long-iso %s | awk '{print $1,\"\\t\",$2,\"\\t\",$3,\"\\t\",$4,\"\\t\",$5,\"\\t\",$6,\"\\t\",$7,\"\\t\",$8,\"\\t\",$9,$10,$11,$12,$13,$14,$15;}'\"\"\"%directory)\n",
    "files_on_remote = stdout.readlines()\n",
    "ssh_client.close()\n",
    "\n",
    "sizes = []\n",
    "times = []\n",
    "files = []\n",
    "\n",
    "for file in files_on_remote:\n",
    "    fields = [f.strip() for f in file.split('\\t')]\n",
    "    size = fields[4]\n",
    "    time = fields[5] + ' ' + fields[6]\n",
    "    file_ = fields[7]\n",
    "\n",
    "    times.append(time)\n",
    "    sizes.append(size)\n",
    "    files.append(file_)\n",
    "df = pd.DataFrame(dict(size_bytes=sizes,\n",
    "                       filename=files,\n",
    "                       file_create_time=times))\n",
    "df.head()"
   ]
  },
  {
   "cell_type": "markdown",
   "metadata": {},
   "source": [
    "See how beautifully verbose the entire Parmiko connection is. Perhaps too verobe and using the `info` level logging would probably be a better option - however if things aren't working as you expect then the `debug` level will be great."
   ]
  },
  {
   "cell_type": "markdown",
   "metadata": {},
   "source": [
    "## Putting it all together"
   ]
  },
  {
   "cell_type": "markdown",
   "metadata": {},
   "source": [
    "Now that you've got all the tools you can have a look at the `boiler_plate.py` setup I'm currenlty using to speed up development for new project. "
   ]
  },
  {
   "cell_type": "code",
   "execution_count": 20,
   "metadata": {
    "ExecuteTime": {
     "end_time": "2019-10-09T04:29:44.745019Z",
     "start_time": "2019-10-09T04:29:44.543472Z"
    }
   },
   "outputs": [
    {
     "name": "stdout",
     "output_type": "stream",
     "text": [
      "usage: Boilerplate Code [-h] [-c CONFIG_FILE] [-d DEBUG_LEVEL] [-f LOG_FILE]\r\n",
      "\r\n",
      "Boilerplate Code python create_ranking_df.py -c config.ini -d D\r\n",
      "\r\n",
      "optional arguments:\r\n",
      "  -h, --help            show this help message and exit\r\n",
      "  -c CONFIG_FILE, --config_file CONFIG_FILE\r\n",
      "                        config file with passwords for various DBs\r\n",
      "  -d DEBUG_LEVEL, --debug_level DEBUG_LEVEL\r\n",
      "                        one of DEBUG (D), INFO (I), WARNING (W), ERROR (E),\r\n",
      "                        CRITICAL (C) - defaults to WARNING\r\n",
      "  -f LOG_FILE, --log_file LOG_FILE\r\n",
      "                        log file to write logs to - defaults to\r\n",
      "                        create_ranking_df.log\r\n"
     ]
    }
   ],
   "source": [
    "!python boiler_plate.py -h"
   ]
  },
  {
   "cell_type": "code",
   "execution_count": 21,
   "metadata": {
    "ExecuteTime": {
     "end_time": "2019-10-09T04:29:44.950740Z",
     "start_time": "2019-10-09T04:29:44.747040Z"
    }
   },
   "outputs": [],
   "source": [
    "!python boiler_plate.py -c config.ini -d D"
   ]
  },
  {
   "cell_type": "code",
   "execution_count": 22,
   "metadata": {
    "ExecuteTime": {
     "end_time": "2019-10-09T04:29:45.076338Z",
     "start_time": "2019-10-09T04:29:44.954675Z"
    }
   },
   "outputs": [
    {
     "name": "stdout",
     "output_type": "stream",
     "text": [
      "2019-10-09 06:29:44,839 DEBUG      root     /Users/louwrenslabuschagne/Documents/gitProjects/productionising-scripts/boiler_plate.py called with arguments: config_file:config.ini, debug_level:D, log_file:boiler_plate.py.log\r\n",
      "2019-10-09 06:29:44,840 DEBUG      root     Config for: optima, touchpoint, vodanetworks read in\r\n"
     ]
    }
   ],
   "source": [
    "!cat boiler_plate.py.log"
   ]
  }
 ],
 "metadata": {
  "kernelspec": {
   "display_name": "Python 3",
   "language": "python",
   "name": "python3"
  },
  "language_info": {
   "codemirror_mode": {
    "name": "ipython",
    "version": 3
   },
   "file_extension": ".py",
   "mimetype": "text/x-python",
   "name": "python",
   "nbconvert_exporter": "python",
   "pygments_lexer": "ipython3",
   "version": "3.7.4"
  },
  "toc": {
   "base_numbering": 1,
   "nav_menu": {},
   "number_sections": true,
   "sideBar": true,
   "skip_h1_title": true,
   "title_cell": "Table of Contents",
   "title_sidebar": "Contents",
   "toc_cell": false,
   "toc_position": {
    "height": "calc(100% - 180px)",
    "left": "10px",
    "top": "150px",
    "width": "259.2px"
   },
   "toc_section_display": true,
   "toc_window_display": true
  }
 },
 "nbformat": 4,
 "nbformat_minor": 2
}
